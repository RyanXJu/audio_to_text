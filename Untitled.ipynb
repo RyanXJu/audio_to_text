{
 "cells": [
  {
   "cell_type": "markdown",
   "id": "0a3d24d3-a524-4fd7-96c1-ea7d5294ce4a",
   "metadata": {},
   "source": [
    "## Convert audio (microphone to text)"
   ]
  },
  {
   "cell_type": "code",
   "execution_count": null,
   "id": "afd302ad-e40d-4233-9640-f7a3ed19556c",
   "metadata": {},
   "outputs": [],
   "source": [
    "$ brew install portaudio\n",
    "$ pip3 install pyaudio"
   ]
  },
  {
   "cell_type": "markdown",
   "id": "ea756b61-5fdf-45d7-ae7d-ac259278d7d4",
   "metadata": {},
   "source": [
    "https://thepythoncode.com/article/using-speech-recognition-to-convert-speech-to-text-python"
   ]
  },
  {
   "cell_type": "code",
   "execution_count": 25,
   "id": "8cf6e512-5c57-470a-9f4b-3d1a00035a50",
   "metadata": {},
   "outputs": [
    {
     "name": "stdout",
     "output_type": "stream",
     "text": [
      "Adjusting for ambient noise, please wait...\n",
      "You can start speaking now, recognition will begin after 2 seconds of silence...\n",
      "Recognizing...\n",
      "You said: okay I'm going to start to speak and you can come work what I said into text\n"
     ]
    }
   ],
   "source": [
    "import speech_recognition as sr\n",
    "\n",
    "# Initialize recognizer class (for recognizing the speech)\n",
    "recognizer = sr.Recognizer()\n",
    "\n",
    "# Use the microphone as a source for input\n",
    "with sr.Microphone() as source:\n",
    "    print(\"Adjusting for ambient noise, please wait...\")\n",
    "    recognizer.adjust_for_ambient_noise(source)\n",
    "    \n",
    "    # Set the pause threshold to 5 seconds\n",
    "    recognizer.pause_threshold = 2\n",
    "\n",
    "    print(F\"You can start speaking now, recognition will begin after {recognizer.pause_threshold} seconds of silence...\")\n",
    "\n",
    "    # Record audio from the microphone\n",
    "    audio_data = recognizer.listen(source)\n",
    "    print(\"Recognizing...\")\n",
    "\n",
    "    # Convert speech to text\n",
    "    try:\n",
    "        text = recognizer.recognize_google(audio_data)\n",
    "        print(\"You said:\", text)\n",
    "    except sr.UnknownValueError:\n",
    "        print(\"Sorry, I did not understand the audio.\")\n",
    "    except sr.RequestError:\n",
    "        print(\"Could not request results; check your network connection.\")\n"
   ]
  },
  {
   "cell_type": "markdown",
   "id": "1cb0ff72-0e85-4c74-a20e-2c0c6fe552c8",
   "metadata": {},
   "source": [
    "## Convert text to audio "
   ]
  },
  {
   "cell_type": "code",
   "execution_count": 15,
   "id": "a5fb0df2-6a60-4e56-b430-d22cda6d7afd",
   "metadata": {},
   "outputs": [
    {
     "name": "stdout",
     "output_type": "stream",
     "text": [
      "Generating speech...\n",
      "Hello\n",
      "Please speak after this tone\n",
      "This is a test of text-to-speech synchronization.\n"
     ]
    }
   ],
   "source": [
    "import os\n",
    "import pygame\n",
    "from gtts import gTTS\n",
    "from io import BytesIO\n",
    "import time\n",
    "\n",
    "def text_to_speech(text):\n",
    "    print(\"Generating speech...\")\n",
    "    \n",
    "    # Split the text into sentences or words for better synchronization\n",
    "    parts = text.split(\". \")  # Split by sentence (you can modify this logic)\n",
    "    \n",
    "    # Initialize pygame mixer\n",
    "    pygame.mixer.init()\n",
    "\n",
    "    # Loop over each part, play it, and print it while the audio plays\n",
    "    for part in parts:\n",
    "        # Generate TTS audio for the current part\n",
    "        tts = gTTS(text=part, lang=\"en\")\n",
    "        audio_data = BytesIO()\n",
    "        tts.write_to_fp(audio_data)\n",
    "        audio_data.seek(0)\n",
    "        \n",
    "        # Create a temporary unique filename for the audio\n",
    "        temp_filename = f\"temp_audio_{int(time.time())}.mp3\"\n",
    "        \n",
    "        # Write the audio data to the file\n",
    "        with open(temp_filename, \"wb\") as f:\n",
    "            f.write(audio_data.read())\n",
    "\n",
    "        # Load and play the audio\n",
    "        pygame.mixer.music.load(temp_filename)\n",
    "        pygame.mixer.music.play()\n",
    "        \n",
    "        # Print the text part to the user\n",
    "        print(part)\n",
    "        \n",
    "        # Wait for the audio to finish before proceeding to the next part\n",
    "        while pygame.mixer.music.get_busy():\n",
    "            time.sleep(0.1)  # Sleep for a short while to avoid high CPU usage\n",
    "\n",
    "# # Example usage\n",
    "# input_text = \"Hello. Please speak after this tone. This is a test of text-to-speech synchronization.\"\n",
    "# text_to_speech(input_text)\n"
   ]
  },
  {
   "cell_type": "code",
   "execution_count": 26,
   "id": "be981730-274e-464c-9fe2-5aab667dcc90",
   "metadata": {},
   "outputs": [],
   "source": [
    "input_text = text"
   ]
  },
  {
   "cell_type": "code",
   "execution_count": 27,
   "id": "feb0cb6e-f644-45df-97b7-1619c9562798",
   "metadata": {},
   "outputs": [
    {
     "name": "stdout",
     "output_type": "stream",
     "text": [
      "Generating speech...\n",
      "okay I'm going to start to speak and you can come work what I said into text\n"
     ]
    }
   ],
   "source": [
    "text_to_speech(input_text)"
   ]
  },
  {
   "cell_type": "code",
   "execution_count": null,
   "id": "08a62005-ef84-4363-87e3-6e20935c5e28",
   "metadata": {},
   "outputs": [],
   "source": []
  }
 ],
 "metadata": {
  "kernelspec": {
   "display_name": "venv_audio2text",
   "language": "python",
   "name": "venv_audio2text"
  },
  "language_info": {
   "codemirror_mode": {
    "name": "ipython",
    "version": 3
   },
   "file_extension": ".py",
   "mimetype": "text/x-python",
   "name": "python",
   "nbconvert_exporter": "python",
   "pygments_lexer": "ipython3",
   "version": "3.12.7"
  }
 },
 "nbformat": 4,
 "nbformat_minor": 5
}
